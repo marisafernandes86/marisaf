{
 "cells": [
  {
   "cell_type": "markdown",
   "metadata": {},
   "source": [
    "<img src=\"https://bit.ly/2VnXWr2\" width=\"100\" align=\"left\">"
   ]
  },
  {
   "cell_type": "markdown",
   "metadata": {},
   "source": [
    "# Rock, Paper & Scissors\n",
    "\n",
    "Let's play the famous game against our computer. You can check the rules [here](https://en.wikipedia.org/wiki/Rock%E2%80%93paper%E2%80%93scissors). \n",
    "\n",
    "## Task\n",
    "Create a program that imitates the playability of the well known game of rock, paper, scissors. Follow the guidelines provided.\n",
    "\n",
    "## Tools\n",
    "1. Loop: **for/while**\n",
    "2. Functions: **input(), print()...**\n",
    "3. Conditional statements: **if, elif, else**\n",
    "4. Definition of functions. Modular programming\n",
    "5. Import modules\n",
    "\n",
    "**To solve this challenge, the use of functions is recommended.**\n",
    "\n",
    "#### 1. Import the choice function of the random module."
   ]
  },
  {
   "cell_type": "code",
   "execution_count": null,
   "metadata": {},
   "outputs": [],
   "source": [
    "import random"
   ]
  },
  {
   "cell_type": "markdown",
   "metadata": {},
   "source": [
    "#### 2. Create a list that includes the 3 possible gesture options of the game: 'rock', 'paper' or 'scissors'. Store the list in a variable called `gestures`."
   ]
  },
  {
   "cell_type": "code",
   "execution_count": null,
   "metadata": {},
   "outputs": [],
   "source": [
    "gestures = ['rock','paper','scissors']"
   ]
  },
  {
   "cell_type": "markdown",
   "metadata": {},
   "source": [
    "#### 3. Create a variable called `n_rounds` to store the maximum number of rounds to play in a game. \n",
    "Remember that the number of rounds must be odd: 1, 3, 5, ..."
   ]
  },
  {
   "cell_type": "code",
   "execution_count": null,
   "metadata": {},
   "outputs": [],
   "source": [
    "n_rounds = 0"
   ]
  },
  {
   "cell_type": "markdown",
   "metadata": {},
   "source": [
    "#### 4. Create a variable called `rounds_to_win` to store the number of rounds that a player must win to win the game.\n",
    "**Hint**: the value stored in `rounds_to_win` depends on the value of `n_rounds`. "
   ]
  },
  {
   "cell_type": "code",
   "execution_count": null,
   "metadata": {},
   "outputs": [],
   "source": [
    "rounds_to_win = 3 "
   ]
  },
  {
   "cell_type": "markdown",
   "metadata": {},
   "source": [
    "#### 5. Create two variables to store the number of rounds that the computer and the player have won. Call these variables `cpu_score` and `player_score`."
   ]
  },
  {
   "cell_type": "code",
   "execution_count": null,
   "metadata": {},
   "outputs": [],
   "source": [
    "class game_score: \n",
    "    cpu_score = 0\n",
    "    player_score = 0\n",
    "score = game_score()"
   ]
  },
  {
   "cell_type": "markdown",
   "metadata": {},
   "source": [
    "#### 6. Define a function that randomly returns one of the 3 gesture options.\n",
    "You will use this function to simulate the gesture choice of the computer. "
   ]
  },
  {
   "cell_type": "code",
   "execution_count": null,
   "metadata": {},
   "outputs": [],
   "source": [
    "def f_cpu_move ():\n",
    "    cpu_move = random.choice(gestures)\n",
    "    return cpu_move"
   ]
  },
  {
   "cell_type": "markdown",
   "metadata": {},
   "source": [
    "#### 7. Define a function that asks the player which is the gesture he or she wants to show: 'rock', 'paper' or 'scissors'.\n",
    "The player should only be allowed to choose one of the 3 gesture options. If the player's choice is not rock, paper or scissors, keep asking until it is."
   ]
  },
  {
   "cell_type": "code",
   "execution_count": null,
   "metadata": {},
   "outputs": [],
   "source": [
    "def f_ask_player_move():\n",
    "    player_move = \" \"\n",
    "    aux_flag = 0\n",
    "    while (player_move not in gestures):\n",
    "\n",
    "        if(aux_flag):\n",
    "            print(\"Wrong move!!!\")\n",
    "            \n",
    "        aux_flag = 1\n",
    "        player_move = input(\"Insert your move: \")\n",
    "    return player_move"
   ]
  },
  {
   "cell_type": "markdown",
   "metadata": {},
   "source": [
    "#### 8. Define a function that checks who won a round. \n",
    "The function should return 0 if there is a tie, 1 if the computer wins and 2 if the player wins."
   ]
  },
  {
   "cell_type": "code",
   "execution_count": null,
   "metadata": {},
   "outputs": [],
   "source": [
    "#checks who win  (0 - tie, 1- cpu, 2 - player) \n",
    "def f_round_checks (player_move, cpu_move):\n",
    " \n",
    "    if(player_move=='rock'):\n",
    "        if(cpu_move=='rock'):\n",
    "            #print(\"tie\")\n",
    "            return 0          \n",
    "        if(cpu_move=='paper'):\n",
    "            #print(\"Player wins\")\n",
    "            return 1\n",
    "        if(cpu_move=='scissors'):\n",
    "            #print(\"cpu wins\")\n",
    "            return 2\n",
    "        \n",
    "    if(player_move=='paper'):\n",
    "        if(cpu_move=='rock'):\n",
    "            #print(\"player wins\")\n",
    "            return 2\n",
    "        if(cpu_move=='paper'):\n",
    "            #print(\"tie\")\n",
    "            return 0\n",
    "        if(cpu_move=='scissors'):\n",
    "            #print(\"cpu wins\")\n",
    "            return 1\n",
    "        \n",
    "    if(player_move=='scissors'):\n",
    "        if(cpu_move=='rock'):\n",
    "            #print(\"cpu wins\")\n",
    "            return 1\n",
    "        if(cpu_move=='paper'):\n",
    "            #print(\"player wins\")\n",
    "            return 2\n",
    "        if(cpu_move=='scissors'):\n",
    "            #print(\"tie\")\n",
    "            return 0"
   ]
  },
  {
   "cell_type": "markdown",
   "metadata": {},
   "source": [
    "#### 9. Define a function that prints the choice of the computer, the choice of the player and a message that announces who won the current round. \n",
    "You should also use this function to update the variables that count the number of rounds that the computer and the player have won. The score of the winner increases by one point. If there is a tie, the score does not increase."
   ]
  },
  {
   "cell_type": "code",
   "execution_count": null,
   "metadata": {},
   "outputs": [],
   "source": [
    "def f_round_winner (player_move,cpu_move,winner, score): \n",
    "    print(\"Battle moves:\")\n",
    "    print(\"--------------------------\")\n",
    "    print(\"Player move: \", player_move)\n",
    "    print(\"CPU move: \", cpu_move) \n",
    "    print(\"--------------------------\")\n",
    "    if(winner == 0):\n",
    "        print (\"Result: Tie!\")\n",
    "    if(winner == 1):\n",
    "        print (\"Result: CPU wins the round!\")\n",
    "        score.cpu_score = score.cpu_score +1\n",
    "    if(winner == 2):\n",
    "        print (\"Result: Player wins the round!\")\n",
    "        score.player_score = score.player_score +1            \n",
    "    return score"
   ]
  },
  {
   "cell_type": "markdown",
   "metadata": {},
   "source": [
    "#### 10. Now it's time to code the execution of the game using the functions and variables you defined above. \n",
    "\n",
    "First, create a loop structure that repeats while no player reaches the minimum score necessary to win and the number of rounds is less than the maximum number of rounds to play in a game.  \n",
    "\n",
    "Inside the loop, use the functions and variables above to create the execution of a round: ask for the player's choice, generate the random choice of the computer, show the round results, update the scores, etc. "
   ]
  },
  {
   "cell_type": "code",
   "execution_count": null,
   "metadata": {},
   "outputs": [],
   "source": [
    "while (n_rounds<10):\n",
    "    n_rounds = n_rounds + 1\n",
    "    player_move = f_ask_player_move()\n",
    "    cpu_move = f_cpu_move ()\n",
    "    round_win = f_round_checks (player_move, cpu_move)      \n",
    "    score = f_round_winner(player_move,cpu_move,round_win, score)\n",
    "    print(\"\\n\",\"Number of rounds:\",n_rounds)\n",
    "    print(\"Player score:\",score.player_score)\n",
    "    print(\"CPU score:\",score.cpu_score)   "
   ]
  },
  {
   "cell_type": "markdown",
   "metadata": {},
   "source": [
    "#### 11. Print the winner of the game based on who won more rounds.\n",
    "Remember that the game might be tied. "
   ]
  },
  {
   "cell_type": "code",
   "execution_count": null,
   "metadata": {},
   "outputs": [],
   "source": [
    " if(score.player_score>=rounds_to_win):\n",
    "        print (\"\\n\",\"Player wins the Game!\")\n",
    "        break\n",
    "    if(score.cpu_score>=rounds_to_win):\n",
    "        print (\"\\n\",\"CPU wins the Game!\")\n",
    "        break"
   ]
  },
  {
   "cell_type": "markdown",
   "metadata": {},
   "source": [
    "# Bonus: Rock, Paper, Scissors, Lizard & Spock\n",
    "![](images/rpsls.jpg)\n",
    "\n",
    "In this challenge, you need to improve the previous game by adding two new options. To know more about the rules of the improved version of rock, paper, scissors, check this [link](http://www.samkass.com/theories/RPSSL.html). \n",
    "\n",
    "In addition, you will also need to improve how the game interacts with the player: the number of rounds to play, which must be an odd number, will be requested to the user until a valid number is entered. Define a new function to make that request.\n",
    "\n",
    "**Hint**: Try to reuse the code that you already coded in the previous challenge. If your code is efficient, this bonus will only consist of simple modifications to the original game."
   ]
  },
  {
   "cell_type": "code",
   "execution_count": null,
   "metadata": {},
   "outputs": [],
   "source": [
    "import random\n",
    "\n",
    "gestures = ['rock','paper','scissors']\n",
    "\n",
    "#number of rounds\n",
    "n_rounds=0 \n",
    "player_choice = int(input(\"Insert the maximum number of rounds you want to play: \"))\n",
    "print(\"Your round's choice is:\", player_choice) \n",
    "\n",
    "#number of rounds that a player must win to win the game\n",
    "rounds_to_win  = int(input(\"Insert number of rounds that a player must win to win the game: \"))\n",
    "print(\"Your round's choice is:\", rounds_to_win) \n",
    "\n",
    "class game_score: \n",
    "    cpu_score = 0\n",
    "    player_score = 0\n",
    "\n",
    "score = game_score()\n",
    "\n",
    "#functions\n",
    "\n",
    "#cpu random choice\n",
    "def f_cpu_move ():#cpu random choice\n",
    "    cpu_move = random.choice(gestures)\n",
    "    return cpu_move\n",
    "\n",
    "#ask  player which is the gesture he or she wants to show\n",
    "def f_ask_player_move():\n",
    "    player_move = \" \"\n",
    "    aux_flag = 0\n",
    "    while (player_move not in gestures):\n",
    "\n",
    "        if(aux_flag):\n",
    "            print(\"wrong move!!!\")\n",
    "            \n",
    "        aux_flag = 1\n",
    "        player_move = input(\"Insert your move: \")\n",
    "    return player_move\n",
    "\n",
    "#checks who win  (0 - tie, 1- cpu, 2 - player) \n",
    "def f_round_checks (player_move, cpu_move):\n",
    " \n",
    "    if(player_move=='rock'):\n",
    "        if(cpu_move=='rock'):\n",
    "            #print(\"tie\")\n",
    "            return 0          \n",
    "        if(cpu_move=='paper'):\n",
    "            #print(\"Player wins\")\n",
    "            return 1\n",
    "        if(cpu_move=='scissors'):\n",
    "            #print(\"cpu wins\")\n",
    "            return 2\n",
    "        \n",
    "    if(player_move=='paper'):\n",
    "        if(cpu_move=='rock'):\n",
    "            #print(\"player wins\")\n",
    "            return 2\n",
    "        if(cpu_move=='paper'):\n",
    "            #print(\"tie\")\n",
    "            return 0\n",
    "        if(cpu_move=='scissors'):\n",
    "            #print(\"cpu wins\")\n",
    "            return 1\n",
    "        \n",
    "    if(player_move=='scissors'):\n",
    "        if(cpu_move=='rock'):\n",
    "            #print(\"cpu wins\")\n",
    "            return 1\n",
    "        if(cpu_move=='paper'):\n",
    "            #print(\"player wins\")\n",
    "            return 2\n",
    "        if(cpu_move=='scissors'):\n",
    "            #print(\"tie\")\n",
    "            return 0\n",
    "#########\n",
    "\n",
    "#print who wins\n",
    "def f_round_winner (player_move,cpu_move,winner, score): \n",
    "    print(\"Battle moves:\")\n",
    "    print(\"--------------------------\")\n",
    "    print(\"Player move: \", player_move)\n",
    "    print(\"CPU move: \", cpu_move) \n",
    "    print(\"--------------------------\")\n",
    "    if(winner == 0):\n",
    "        print (\"Result: Tie\")\n",
    "    if(winner == 1):\n",
    "        print (\"Result: CPU wins the round!\")\n",
    "        score.cpu_score = score.cpu_score +1\n",
    "    if(winner == 2):\n",
    "        print (\"Result: Player wins the round!\")\n",
    "        score.player_score = score.player_score +1            \n",
    "    return score\n",
    "\n",
    "while (n_rounds<player_choice):\n",
    "    n_rounds = n_rounds + 1\n",
    "    player_move = f_ask_player_move()\n",
    "    cpu_move = f_cpu_move ()\n",
    "    round_win = f_round_checks (player_move, cpu_move)      \n",
    "    score = f_round_winner(player_move,cpu_move,round_win, score)\n",
    "    print(\"\\n\",\"Number of rounds:\",n_rounds)\n",
    "    print(\"Player score:\",score.player_score)\n",
    "    print(\"CPU score:\",score.cpu_score)\n",
    "    \n",
    "    if(score.player_score>=rounds_to_win):\n",
    "        print (\"\\n\",\"Player wins the Game!\")\n",
    "        break\n",
    "    if(score.cpu_score>=rounds_to_win):\n",
    "        print (\"\\n\",\"CPU wins the Game!\")\n",
    "        break"
   ]
  }
 ],
 "metadata": {
  "kernelspec": {
   "display_name": "Python 3",
   "language": "python",
   "name": "python3"
  },
  "language_info": {
   "codemirror_mode": {
    "name": "ipython",
    "version": 3
   },
   "file_extension": ".py",
   "mimetype": "text/x-python",
   "name": "python",
   "nbconvert_exporter": "python",
   "pygments_lexer": "ipython3",
   "version": "3.8.3"
  }
 },
 "nbformat": 4,
 "nbformat_minor": 2
}
